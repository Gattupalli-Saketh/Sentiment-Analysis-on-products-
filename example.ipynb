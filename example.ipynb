{
 "cells": [
  {
   "cell_type": "code",
   "execution_count": null,
   "metadata": {},
   "outputs": [
    {
     "name": "stdout",
     "output_type": "stream",
     "text": [
      "DataFrame Coloums:\n",
      "Index(['Unnamed: 0', 'Clothing ID', 'Age', 'Title', 'Review Text', 'Rating',\n",
      "       'Recommended IND', 'Positive Feedback Count', 'Division Name',\n",
      "       'Department Name', 'Class Name'],\n",
      "      dtype='object')\n",
      "Filtered reviews saved to 'filtered_reviews.csv'.\n"
     ]
    }
   ],
   "source": [
    "import pandas as pd\n",
    "\n",
    "\n",
    "# Load dataset\n",
    "df = pd.read_csv('Womens Clothing E-Commerce Reviews.csv')\n",
    "\n",
    "\n",
    "#Drop null columns\n",
    "df.dropna(inplace=True)\n",
    "\n",
    "#Droping the duplicates from the dataset\n",
    "df.drop_duplicates(inplace = True)\n",
    "\n",
    "#Printing this to know exact Row which needed to be filtered \n",
    "print(\"DataFrame Coloums:\")  \n",
    "print(df.columns)\n",
    "\n",
    "# Drop rows with missing reviews\n",
    "\n",
    "if 'Review Text' in df.columns:\n",
    "   \n",
    "   reviews = df.dropna(subset=['Review Text'])\n",
    "\n",
    "else:\n",
    "   \n",
    "   print(\"Column ReviewText does not exits \")\n",
    "\n",
    "# Alternatively, keep rows where the 'ReviewText' column is not empty\n",
    "reviews = df[df['Review Text'].str.strip().astype(bool)]\n",
    "\n",
    "review_texts = reviews['Review Text']\n",
    "\n",
    "review_texts.to_csv('filtered_reviews.csv', index=False)\n",
    "\n",
    "print(\"Filtered reviews saved to 'filtered_reviews.csv'.\")\n",
    "\n",
    "\n",
    "\n",
    "    \n",
    "\n"
   ]
  }
 ],
 "metadata": {
  "kernelspec": {
   "display_name": "Python 3",
   "language": "python",
   "name": "python3"
  },
  "language_info": {
   "codemirror_mode": {
    "name": "ipython",
    "version": 3
   },
   "file_extension": ".py",
   "mimetype": "text/x-python",
   "name": "python",
   "nbconvert_exporter": "python",
   "pygments_lexer": "ipython3",
   "version": "3.11.2"
  }
 },
 "nbformat": 4,
 "nbformat_minor": 2
}
